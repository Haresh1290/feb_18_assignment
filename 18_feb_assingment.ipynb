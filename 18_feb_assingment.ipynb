{
 "cells": [
  {
   "cell_type": "markdown",
   "id": "13fcb5c0-36c9-41b0-886e-a7633e1914d8",
   "metadata": {},
   "source": [
    "Problem_1\n",
    "API definition\n",
    "API stands for 'application programming interface,' and the dictionary describes it as \"a set of functions and procedures allowing the creation of applications that access the features or data of an operating system, application, or other services.\" In more basic terms, API is a software intermediary that allows two different applications to talk to each other.\n",
    "When running on a server, an API is a set of coded routines that receives requests from and sends responses to other programs. API designers implement that code through standardized programming statements that expose functions that make sense for accessing the platform in question.\n",
    "\n",
    "For example, suppose you wanted to incorporate a map to your business on your website or display a list of your latest tweets. You can’t directly access Google Maps or Twitter — the code that runs those sites sits on Google and Twitter servers. But those platforms provide APIs that let authorized users retrieve data from their sites.\n",
    "\n",
    "The Google Maps API and Twitter API may be among the most widely used API examples, but most software-as-a-service (SaaS) providers offer APIs that let developers write code that posts data to and retrieves data from the provider’s site as well.\n",
    "\n",
    "Developers can use multiple different programming languages to create web-based APIs, including Java, JavaScript, Perl, Python, and Ruby. Each call that’s a part of these APIs has a defined syntax, and each vendor that provides an API documents its syntax, usually on their site or sometimes on sites like GitHub or ProgrammableWeb.\n",
    "\n",
    "Most types of APIs have several methods, or operations, that allow developers to create, retrieve, update, and delete data. The verbs used to implement these methods are, respectively, POST, GET, PUT, and DELETE. Each method generally takes a payload in the form of a file in a defined format (usually JSON or XML) that contains the data to be operated on, and uses a URI (Uniform Resource Identifier) that acts as an address where the API can interact with the calling program.\n",
    "\n",
    "Google Maps: Thanks to standards applied by Google, most websites can use Google Maps APIs to integrate their maps.\n",
    "Vulcan: This multiplatform API allows developers to create real-time graphical interfaces and high-quality apps, providing faster and more efficient communication between apps and graphical processing units.\n",
    "Skyscanner: This search platform makes it easier for travelers to find better prices for their flights. It also provides an API for commercial allies that is compatible with XML and JSON for data exchange.\n",
    "Weather API: A geolocation and meteorological information service with many different APIs that range from weather forecasting to time zones to astronomical information and much more."
   ]
  },
  {
   "cell_type": "markdown",
   "id": "243dbc9e-ad15-4330-9510-33a27653238d",
   "metadata": {},
   "source": [
    "problem_2\n",
    "\n",
    "Advantages of using API.\n",
    "Applications: Access to APIs ensures more flexibility in information-transfer processes.\n",
    "Reach: APIs let you create layers in apps in order to distribute information to different audiences.\n",
    "Customization: Furthermore, it can serve as a solution to create different experiences for users, letting protocols, functions, and commands be adapted according to specific demands.\n",
    "Efficiency: When you have content that is automatically published and made available on different channels simultaneously, APIs allow for more efficient data distribution.\n",
    "Adaptability: One of the greatest benefits of APIs is the ability it has to adapt to changes through data migration and flexibility of services.\n",
    "\n",
    "API Disadvantages\n",
    "There is a lot of conveniences and advantages to APIs, but business leaders should also be aware of the disadvantages. As a single point of entry, an API is a gateway and can become a hacker's primary target. Once the API is compromised, all other applications and systems become vulnerable.\n",
    "\n",
    "Nine of the top ten vulnerabilities listed in the OWASP Top 10 now mention APIs — and since APIs can be accessed over the internet, they will have all the same disadvantages as any other Internet-based resource.  APIs are vulnerable to man-in-the-middle attacks, CSRF attacks, XSS attacks, SQL injection, and DDoS attacks."
   ]
  },
  {
   "cell_type": "markdown",
   "id": "88d011b7-d934-4e36-a525-58885bac2355",
   "metadata": {},
   "source": [
    "Problem_3\n",
    "\n",
    "API stands for Application Programming Interface. A Web API is an application programming interface for the Web. A Browser API can extend the functionality of a web browser. A Server API can extend the functionality of a web server\n",
    "\n",
    "Web service is a collection of open source protocols and standards used for exchanging data between systems or applications, whereas API is a software interface that allows two applications to interact with each other without any user involvement.\n",
    "Web service is used for REST, SOAP, and XML-RPC for communication, while API is used for any style of communication.\n",
    "Web service supports only HTTP protocol, whereas API supports HTTP/HTTPS protocol.\n",
    "Web service supports XML, while API supports XML and JSON.\n",
    "All Web services are APIs, but all APIs are not web service,"
   ]
  },
  {
   "cell_type": "markdown",
   "id": "2ab123cd-0e73-4e1b-8590-2ca62a77575b",
   "metadata": {},
   "source": [
    "Problem_4\n",
    "\n",
    "REST: representational state transfer\n",
    "REST is a set of architectural principles attuned to the needs of lightweight web services and mobile applications. Because it's a set of guidelines, it leaves the implementation of these recommendations to developers.\n",
    "\n",
    "When a request for data is sent to a REST API, it’s usually done through hypertext transfer protocol (commonly referred to as HTTP). Once a request is received, APIs designed for REST (called RESTful APIs or RESTful web services) can return messages in a variety of formats: HTML, XML, plain text, and JSON. JSON (JavaScript object notation) is favored as a message format because it can be read by any programming language (despite the name), is human- and machine-readable, and is lightweight. In this way, RESTful APIs are more flexible and can be easier to set up.\n",
    "\n",
    "An application is said to be RESTful if it follows 6 architectural guidelines. A RESTful application must have:\n",
    "\n",
    "A client-server architecture composed of clients, servers, and resources.\n",
    "Stateless client-server communication, meaning no client content is stored on the server between requests. Information about the session’s state is instead held with the client.\n",
    "Cacheable data to eliminate the need for some client-server interactions.\n",
    "A uniform interface between components so that information is transferred in a standardized form instead of specific to an application’s needs. This is described by Roy Fielding, the originator of REST, as “the central feature that distinguishes the REST architectural style from other network-based styles.”\n",
    "A layered system constraint, where client-server interactions can be mediated by hierarchical layers.\n",
    "Code on demand, allowing servers to extend the functionality of a client by transferring executable code (though also reducing visibility, making this an optional guideline).\n",
    "\n",
    "\n",
    "SOAP: simple object access protocol\n",
    "SOAP is a standard protocol that was first designed so that applications built with different languages and on different platforms could communicate. Because it is a protocol, it imposes built-in rules that increase its complexity and overhead, which can lead to longer page load times. However, these standards also offer built-in compliances that can make it preferable for enterprise scenarios. The built-in compliance standards include security, atomicity, consistency, isolation, and durability (ACID), which is a set of properties for ensuring reliable database transactions.\n",
    "\n",
    "Common web service specifications include:\n",
    "\n",
    "Web services security (WS-security): Standardizes how messages are secured and transferred through unique identifiers called tokens.\n",
    "WS-ReliableMessaging: Standardizes error handling between messages transferred across unreliable IT infrastructure.\n",
    "Web services addressing (WS-addressing): Packages routing information as metadata within SOAP headers, instead of maintaining such information deeper within the network.\n",
    "Web services description language (WSDL): Describes what a web service does, and where that service begins and ends.\n",
    "When a request for data is sent to a SOAP API, it can be handled through any of the application layer protocols: HTTP (for web browsers), SMTP (for email), TCP, and others. However, once a request is received, return SOAP messages must be returned as XML documents—a markup language that is both human- and machine-readable. A completed request to a SOAP API is not cacheable by a browser, so it cannot be accessed later without resending to the API."
   ]
  },
  {
   "cell_type": "markdown",
   "id": "cfacb48a-b648-41f8-b0e4-c4210a19c87c",
   "metadata": {},
   "source": [
    "Problem_5\n",
    "\n",
    "1-Relies on SOAP (Simple Object Access Protocol)   1-Relies on REST (Representational State Transfer) architecture                                                       using HTTP.\n",
    "\n",
    "2-Transports data in standard XML format.          2-Generally transports data in JSON. It is based on URI. Because                                                      REST follows stateless model, REST does not enforces message                                                        format as XML or JSON etc.\n",
    "\n",
    "\n",
    "3-Because it is XML based and relies on SOAP,      3-\tIt works with GET, POST, PUT, DELETE\n",
    "it works with WSDL\n",
    "\n",
    "\n",
    "4-Works over HTTP, HTTPS, SMTP, XMPP               4- Works over HTTP and HTTPS\n",
    "\n",
    "\n",
    "5-Highly structured/typed "
   ]
  },
  {
   "cell_type": "code",
   "execution_count": null,
   "id": "183259c2-5d7a-4e10-bf24-3bbd7d561e9b",
   "metadata": {},
   "outputs": [],
   "source": []
  }
 ],
 "metadata": {
  "kernelspec": {
   "display_name": "Python 3 (ipykernel)",
   "language": "python",
   "name": "python3"
  },
  "language_info": {
   "codemirror_mode": {
    "name": "ipython",
    "version": 3
   },
   "file_extension": ".py",
   "mimetype": "text/x-python",
   "name": "python",
   "nbconvert_exporter": "python",
   "pygments_lexer": "ipython3",
   "version": "3.10.8"
  }
 },
 "nbformat": 4,
 "nbformat_minor": 5
}
